{
 "cells": [
  {
   "cell_type": "code",
   "execution_count": null,
   "id": "1b710f51",
   "metadata": {},
   "outputs": [
    {
     "name": "stderr",
     "output_type": "stream",
     "text": [
      "C:\\Users\\lizar\\AppData\\Local\\Temp\\ipykernel_39052\\1551111905.py:15: DeprecationWarning: load_dataset is deprecated and will be removed in a future version.\n",
      "  df_data = kagglehub.load_dataset(\n"
     ]
    },
    {
     "name": "stdout",
     "output_type": "stream",
     "text": [
      "Connection to the server created successfully.\n"
     ]
    }
   ],
   "source": [
    "#getting data\n",
    "\n",
    "import kagglehub\n",
    "from kagglehub import KaggleDatasetAdapter\n",
    "from threading import local\n",
    "from wsgiref.simple_server import server_version\n",
    "from pandas import DataFrame\n",
    "from sqlalchemy import create_engine\n",
    "from numpy import append\n",
    "\n",
    "\n",
    "def getdata():\n",
    "  \n",
    "    # Set the path to the file you'd like to load\n",
    "    data_path = \"Netflix_stock_data.csv\"\n",
    "    githubfile = \"adilshamim8/netflix-stock-price-history\" \n",
    "    sqltablename = \"NetflixStock\"\n",
    "    \n",
    "    # Load the latest version\n",
    "    df_data = kagglehub.load_dataset(\n",
    "      \n",
    "      KaggleDatasetAdapter.PANDAS,\n",
    "      githubfile,\n",
    "      data_path\n",
    "    )\n",
    "    return df_data,sqltablename"
   ]
  },
  {
   "cell_type": "code",
   "execution_count": null,
   "id": "f0dd9bfc",
   "metadata": {},
   "outputs": [],
   "source": [
    "#upload data to ssms for data visualization\n",
    "\n",
    "def insert_data(df_data,sqltablename):\n",
    "    \n",
    "    connection_string = \"DRIVER={ODBC Driver 17 for SQL Server};SERVER=localhost;DATABASE=Operations;Trusted_Connection=yes;TrustServerCertificate=yes\"\n",
    "    engine = create_engine(\n",
    "        f\"mssql+pyodbc:///?odbc_connect={connection_string}\")\n",
    "    \n",
    "    df_data.to_sql(index=False,name=sqltablename, if_exists='append', con=engine)\n",
    "    return  print(\n",
    "            \"Connection to the server created successfully.\")\n",
    "  \n",
    "insert_data(getdata())"
   ]
  }
 ],
 "metadata": {
  "kernelspec": {
   "display_name": "Python 3",
   "language": "python",
   "name": "python3"
  },
  "language_info": {
   "codemirror_mode": {
    "name": "ipython",
    "version": 3
   },
   "file_extension": ".py",
   "mimetype": "text/x-python",
   "name": "python",
   "nbconvert_exporter": "python",
   "pygments_lexer": "ipython3",
   "version": "3.13.2"
  }
 },
 "nbformat": 4,
 "nbformat_minor": 5
}
